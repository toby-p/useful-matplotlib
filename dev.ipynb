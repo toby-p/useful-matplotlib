{
 "cells": [
  {
   "cell_type": "code",
   "execution_count": 1,
   "metadata": {},
   "outputs": [],
   "source": [
    "import matplotlib.pyplot as plt\n",
    "import numpy as np\n",
    "import pandas as pd\n",
    "import random\n",
    "import os"
   ]
  },
  {
   "cell_type": "code",
   "execution_count": 2,
   "metadata": {},
   "outputs": [
    {
     "data": {
      "text/html": [
       "<div>\n",
       "<style scoped>\n",
       "    .dataframe tbody tr th:only-of-type {\n",
       "        vertical-align: middle;\n",
       "    }\n",
       "\n",
       "    .dataframe tbody tr th {\n",
       "        vertical-align: top;\n",
       "    }\n",
       "\n",
       "    .dataframe thead th {\n",
       "        text-align: right;\n",
       "    }\n",
       "</style>\n",
       "<table border=\"1\" class=\"dataframe\">\n",
       "  <thead>\n",
       "    <tr style=\"text-align: right;\">\n",
       "      <th></th>\n",
       "      <th>Animal</th>\n",
       "      <th>Weight</th>\n",
       "      <th>Legs</th>\n",
       "      <th>Age</th>\n",
       "      <th>Name</th>\n",
       "    </tr>\n",
       "  </thead>\n",
       "  <tbody>\n",
       "    <tr>\n",
       "      <td>1657</td>\n",
       "      <td>Hamster</td>\n",
       "      <td>0.502654</td>\n",
       "      <td>4</td>\n",
       "      <td>2</td>\n",
       "      <td>RON</td>\n",
       "    </tr>\n",
       "    <tr>\n",
       "      <td>1658</td>\n",
       "      <td>Hamster</td>\n",
       "      <td>0.441788</td>\n",
       "      <td>4</td>\n",
       "      <td>3</td>\n",
       "      <td>LUIGI</td>\n",
       "    </tr>\n",
       "    <tr>\n",
       "      <td>1659</td>\n",
       "      <td>Hamster</td>\n",
       "      <td>0.531533</td>\n",
       "      <td>4</td>\n",
       "      <td>2</td>\n",
       "      <td>KEITH</td>\n",
       "    </tr>\n",
       "    <tr>\n",
       "      <td>1660</td>\n",
       "      <td>Hamster</td>\n",
       "      <td>0.577304</td>\n",
       "      <td>4</td>\n",
       "      <td>2</td>\n",
       "      <td>CHIEF</td>\n",
       "    </tr>\n",
       "    <tr>\n",
       "      <td>1661</td>\n",
       "      <td>Hamster</td>\n",
       "      <td>0.581278</td>\n",
       "      <td>4</td>\n",
       "      <td>3</td>\n",
       "      <td>LIVADIA</td>\n",
       "    </tr>\n",
       "  </tbody>\n",
       "</table>\n",
       "</div>"
      ],
      "text/plain": [
       "       Animal    Weight  Legs  Age     Name\n",
       "1657  Hamster  0.502654     4    2      RON\n",
       "1658  Hamster  0.441788     4    3    LUIGI\n",
       "1659  Hamster  0.531533     4    2    KEITH\n",
       "1660  Hamster  0.577304     4    2    CHIEF\n",
       "1661  Hamster  0.581278     4    3  LIVADIA"
      ]
     },
     "execution_count": 2,
     "metadata": {},
     "output_type": "execute_result"
    }
   ],
   "source": [
    "fp = os.path.join(os.getcwd(), \"test_data\", \"animals.csv\")\n",
    "df = pd.read_csv(fp)\n",
    "df.tail()"
   ]
  },
  {
   "cell_type": "code",
   "execution_count": 33,
   "metadata": {},
   "outputs": [
    {
     "data": {
      "image/png": "[encoded data removed]",
      "text/plain": [
       "<Figure size 432x432 with 1 Axes>"
      ]
     },
     "metadata": {
      "needs_background": "light"
     },
     "output_type": "display_data"
    }
   ],
   "source": [
    "import itertools\n",
    "\n",
    "neon_5 = [\"#4deeea\", \"#74ee15\", \"#ffe700\", \"#f000ff\", \"#001eff\"]\n",
    "itfc_blue = \"#1919A3\"\n",
    "spine_color = \"#b3b3b3\"\n",
    "tick_color = \"#737373\"\n",
    "spines = [\"top\", \"bottom\", \"right\", \"left\"]\n",
    "\n",
    "def bar_chart(df: pd.DataFrame, category_col: str, data_col: str, sort=\"alpha\", figsize=(6, 6), \n",
    "              ax=None, drop_spines: list = None, x_labels=True, x_rotation=90, colors=neon_5):\n",
    "    \n",
    "    assert sort in [\"alpha\", \"asc\", \"desc\"], f\"Invalid sort arg: {sort}\"\n",
    "    assert all([s in spines for s in drop_spines])\n",
    "    \n",
    "    # Get & sort data:\n",
    "    s = df.groupby(category_col)[data_col].mean()\n",
    "    if sort == \"alpha\":\n",
    "        s = s.sort_index()\n",
    "    elif sort == \"asc\":\n",
    "        s = s.sort_values(ascending=True)\n",
    "    elif sort == \"desc\":\n",
    "        s = s.sort_values(ascending=False)\n",
    "    \n",
    "    # Define colors for the plot:\n",
    "    if isinstance(colors, list):\n",
    "        colour = dict(zip(list(range(len(s))), itertools.cycle(colors)))\n",
    "        colour = list(colour.values())\n",
    "    elif isinstance(colors, str):\n",
    "        colour = colors\n",
    "    \n",
    "    # Create the plot:\n",
    "    if not ax:\n",
    "        fig, ax = plt.subplots(figsize=figsize)\n",
    "    ax.bar(x=range(len(s)), height=s.values, color=colour, width=0.8, bottom=[0 for _ in range(len(s))], align=\"center\")\n",
    "    \n",
    "    # X-axis labels:\n",
    "    if x_labels:\n",
    "        ax.set_xticks(range(len(s)))\n",
    "        ax.set_xticklabels(list(s.index), rotation=x_rotation)\n",
    "    else:\n",
    "        ax.set_xticks([])\n",
    "\n",
    "\n",
    "    # Customise border spines:\n",
    "    ax.tick_params(axis=\"x\", colors=tick_color)\n",
    "    ax.tick_params(axis=\"y\", colors=tick_color)\n",
    "\n",
    "    for loc in drop_spines:\n",
    "        ax.spines[loc].set_visible(False)\n",
    "    for loc in set(spines) - set(drop_spines):\n",
    "        ax.spines[loc].set_color(spine_color)\n",
    "    \n",
    "    return ax\n",
    "    \n",
    "ax = bar_chart(df, category_col=\"Animal\", data_col=\"Weight\", sort=\"asc\", drop_spines=[\"top\", \"right\"],\n",
    "               x_rotation=45, x_labels=True, colors=neon_5)"
   ]
  },
  {
   "cell_type": "code",
   "execution_count": null,
   "metadata": {},
   "outputs": [],
   "source": []
  }
 ],
 "metadata": {
  "kernelspec": {
   "display_name": "Python 3",
   "language": "python",
   "name": "python3"
  },
  "language_info": {
   "codemirror_mode": {
    "name": "ipython",
    "version": 3
   },
   "file_extension": ".py",
   "mimetype": "text/x-python",
   "name": "python",
   "nbconvert_exporter": "python",
   "pygments_lexer": "ipython3",
   "version": "3.7.3"
  }
 },
 "nbformat": 4,
 "nbformat_minor": 2
}
